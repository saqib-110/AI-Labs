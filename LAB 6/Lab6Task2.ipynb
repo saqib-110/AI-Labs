{
 "cells": [
  {
   "cell_type": "code",
   "execution_count": 6,
   "id": "362174e0-46ce-42ea-bc8a-483e70d18669",
   "metadata": {},
   "outputs": [
    {
     "name": "stdout",
     "output_type": "stream",
     "text": [
      "Frequent Itemsets:\n",
      "   support          itemsets\n",
      "0      0.6            (Milk)\n",
      "1      0.8           (Bread)\n",
      "2      0.8          (Butter)\n",
      "3      0.8            (Beer)\n",
      "4      0.6          (Cheese)\n",
      "5      0.6   (Bread, Butter)\n",
      "6      0.6     (Bread, Beer)\n",
      "7      0.6    (Butter, Beer)\n",
      "8      0.6  (Butter, Cheese)\n",
      "\n",
      "Association Rules:\n",
      "  antecedents consequents  antecedent support  consequent support  support  \\\n",
      "0     (Bread)    (Butter)                 0.8                 0.8      0.6   \n",
      "1    (Butter)     (Bread)                 0.8                 0.8      0.6   \n",
      "2     (Bread)      (Beer)                 0.8                 0.8      0.6   \n",
      "3      (Beer)     (Bread)                 0.8                 0.8      0.6   \n",
      "4    (Butter)      (Beer)                 0.8                 0.8      0.6   \n",
      "5      (Beer)    (Butter)                 0.8                 0.8      0.6   \n",
      "6    (Butter)    (Cheese)                 0.8                 0.6      0.6   \n",
      "7    (Cheese)    (Butter)                 0.6                 0.8      0.6   \n",
      "\n",
      "   confidence    lift  representativity  leverage  conviction  zhangs_metric  \\\n",
      "0        0.75  0.9375               1.0     -0.04         0.8          -0.25   \n",
      "1        0.75  0.9375               1.0     -0.04         0.8          -0.25   \n",
      "2        0.75  0.9375               1.0     -0.04         0.8          -0.25   \n",
      "3        0.75  0.9375               1.0     -0.04         0.8          -0.25   \n",
      "4        0.75  0.9375               1.0     -0.04         0.8          -0.25   \n",
      "5        0.75  0.9375               1.0     -0.04         0.8          -0.25   \n",
      "6        0.75  1.2500               1.0      0.12         1.6           1.00   \n",
      "7        1.00  1.2500               1.0      0.12         inf           0.50   \n",
      "\n",
      "   jaccard  certainty  kulczynski  \n",
      "0     0.60     -0.250       0.750  \n",
      "1     0.60     -0.250       0.750  \n",
      "2     0.60     -0.250       0.750  \n",
      "3     0.60     -0.250       0.750  \n",
      "4     0.60     -0.250       0.750  \n",
      "5     0.60     -0.250       0.750  \n",
      "6     0.75      0.375       0.875  \n",
      "7     0.75      1.000       0.875  \n"
     ]
    }
   ],
   "source": [
    "# Importing necessary libraries\n",
    "from mlxtend.frequent_patterns import apriori, association_rules\n",
    "import pandas as pd\n",
    "from mlxtend.frequent_patterns import association_rules\n",
    "# Sample transaction data\n",
    "data = {\n",
    "    'Milk':   [1, 1, 1, 0, 0],\n",
    "    'Bread':  [1, 1, 0, 1, 1],\n",
    "    'Butter': [1, 0, 1, 1, 1],\n",
    "    'Beer':   [0, 1, 1, 1, 1],\n",
    "    'Cheese': [1, 0, 1, 1, 0]\n",
    "}\n",
    "\n",
    "# Creating a DataFrame\n",
    "df = pd.DataFrame(data)\n",
    "\n",
    "# Convert the values to boolean (True for 1, False for 0)\n",
    "df = df.astype(bool)\n",
    "\n",
    "frequent_itemsets = apriori(df, min_support=0.5, use_colnames=True)\n",
    "\n",
    "print(\"Frequent Itemsets:\")\n",
    "print(frequent_itemsets)\n",
    "\n",
    "association_rules_df = association_rules(frequent_itemsets, metric=\"confidence\", min_threshold=0.7, support_only=False, num_itemsets=2)\n",
    "\n",
    "\n",
    "# Display the association rules\n",
    "print(\"\\nAssociation Rules:\")\n",
    "print(association_rules_df)\n"
   ]
  },
  {
   "cell_type": "code",
   "execution_count": null,
   "id": "0eab66ce-a529-45d5-adf4-97c6d407325c",
   "metadata": {},
   "outputs": [],
   "source": []
  },
  {
   "cell_type": "code",
   "execution_count": null,
   "id": "31dc26f2-66a1-454f-94d6-90835de1ec29",
   "metadata": {},
   "outputs": [],
   "source": []
  }
 ],
 "metadata": {
  "kernelspec": {
   "display_name": "Python 3 (ipykernel)",
   "language": "python",
   "name": "python3"
  },
  "language_info": {
   "codemirror_mode": {
    "name": "ipython",
    "version": 3
   },
   "file_extension": ".py",
   "mimetype": "text/x-python",
   "name": "python",
   "nbconvert_exporter": "python",
   "pygments_lexer": "ipython3",
   "version": "3.13.0"
  }
 },
 "nbformat": 4,
 "nbformat_minor": 5
}
