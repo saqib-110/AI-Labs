{
 "cells": [
  {
   "cell_type": "code",
   "execution_count": 3,
   "id": "f94098ce-aac2-4c56-9b3f-860966ec7f0e",
   "metadata": {},
   "outputs": [
    {
     "name": "stdout",
     "output_type": "stream",
     "text": [
      "   Employee_ID  Age  Salary  Years_of_Experience Department       Location  \\\n",
      "0          101   34   55000                    5         HR       New York   \n",
      "1          102   45   70000                   20    Finance        Chicago   \n",
      "2          103   28   45000                    3         IT  San Francisco   \n",
      "3          104   39   60000                   10      Sales         Austin   \n",
      "4          105   50   75000                   25  Marketing    Los Angeles   \n",
      "5          106   42   65000                   15         IT        Chicago   \n",
      "6          107   30   48000                    4    Finance       New York   \n",
      "7          108   29   43000                    2         HR         Austin   \n",
      "\n",
      "   Cluster  \n",
      "0        2  \n",
      "1        1  \n",
      "2        0  \n",
      "3        2  \n",
      "4        1  \n",
      "5        1  \n",
      "6        0  \n",
      "7        0  \n",
      "\n",
      "Cluster Centers:\n",
      "[[2.90000000e+01 4.53333333e+04 3.00000000e+00]\n",
      " [4.56666667e+01 7.00000000e+04 2.00000000e+01]\n",
      " [3.65000000e+01 5.75000000e+04 7.50000000e+00]]\n"
     ]
    }
   ],
   "source": [
    "import numpy as np\n",
    "from sklearn.cluster import KMeans\n",
    "import pandas as pd\n",
    "\n",
    "# New dataset with features 'Age', 'Salary', 'Years_of_Experience', 'Department', and 'Location'\n",
    "data = {\n",
    "    'Employee_ID': [101, 102, 103, 104, 105, 106, 107, 108],\n",
    "    'Age': [34, 45, 28, 39, 50, 42, 30, 29],\n",
    "    'Salary': [55000, 70000, 45000, 60000, 75000, 65000, 48000, 43000],\n",
    "    'Years_of_Experience': [5, 20, 3, 10, 25, 15, 4, 2],\n",
    "    'Department': ['HR', 'Finance', 'IT', 'Sales', 'Marketing', 'IT', 'Finance', 'HR'],\n",
    "    'Location': ['New York', 'Chicago', 'San Francisco', 'Austin', 'Los Angeles', 'Chicago', 'New York', 'Austin']\n",
    "}\n",
    "\n",
    "df = pd.DataFrame(data)\n",
    "\n",
    "# Define features for clustering (use numeric features only)\n",
    "X = df[['Age', 'Salary', 'Years_of_Experience']].values  # Excluding non-numeric columns\n",
    "\n",
    "# Apply K-Means clustering\n",
    "kmeans = KMeans(n_clusters=3, random_state=42)  # Adjust number of clusters as needed\n",
    "kmeans.fit(X)\n",
    "\n",
    "# Add cluster labels to the dataframe\n",
    "df['Cluster'] = kmeans.labels_\n",
    "\n",
    "# Display the updated DataFrame with cluster labels\n",
    "print(df)\n",
    "\n",
    "# Display cluster centers\n",
    "print(\"\\nCluster Centers:\")\n",
    "print(kmeans.cluster_centers_)\n"
   ]
  },
  {
   "cell_type": "code",
   "execution_count": null,
   "id": "e0d1b983-4111-4075-adfd-ee79b58b42f4",
   "metadata": {},
   "outputs": [],
   "source": []
  }
 ],
 "metadata": {
  "kernelspec": {
   "display_name": "Python 3 (ipykernel)",
   "language": "python",
   "name": "python3"
  },
  "language_info": {
   "codemirror_mode": {
    "name": "ipython",
    "version": 3
   },
   "file_extension": ".py",
   "mimetype": "text/x-python",
   "name": "python",
   "nbconvert_exporter": "python",
   "pygments_lexer": "ipython3",
   "version": "3.13.0"
  }
 },
 "nbformat": 4,
 "nbformat_minor": 5
}
