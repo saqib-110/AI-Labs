{
 "cells": [
  {
   "cell_type": "code",
   "execution_count": 1,
   "id": "362174e0-46ce-42ea-bc8a-483e70d18669",
   "metadata": {},
   "outputs": [
    {
     "name": "stdout",
     "output_type": "stream",
     "text": [
      "  Object  X  Y  Z  Cluster\n",
      "0   OB-1  1  4  1        0\n",
      "1   OB-2  1  2  2        1\n",
      "2   OB-3  1  4  2        0\n",
      "3   OB-4  2  1  2        1\n",
      "4   OB-5  1  1  1        1\n",
      "5   OB-6  2  4  2        0\n",
      "6   OB-7  1  1  2        1\n",
      "7   OB-8  2  1  1        1\n",
      "\n",
      "Cluster Centers:\n",
      "[[1.33333333 4.         1.66666667]\n",
      " [1.4        1.2        1.6       ]]\n"
     ]
    }
   ],
   "source": [
    "import numpy as np\n",
    "from sklearn.cluster import KMeans\n",
    "import pandas as pd\n",
    "\n",
    "data = {\n",
    "    'Object': ['OB-1', 'OB-2', 'OB-3', 'OB-4', 'OB-5', 'OB-6', 'OB-7', 'OB-8'],\n",
    "    'X': [1, 1, 1, 2, 1, 2, 1, 2],\n",
    "    'Y': [4, 2, 4, 1, 1, 4, 1, 1],\n",
    "    'Z': [1, 2, 2, 2, 1, 2, 2, 1]\n",
    "}\n",
    "\n",
    "df = pd.DataFrame(data)\n",
    "\n",
    "X = df[['X', 'Y', 'Z']].values\n",
    "\n",
    "kmeans = KMeans(n_clusters=2, random_state=42)\n",
    "\n",
    "kmeans.fit(X)\n",
    "\n",
    "df['Cluster'] = kmeans.labels_\n",
    "\n",
    "print(df)\n",
    "\n",
    "print(\"\\nCluster Centers:\")\n",
    "print(kmeans.cluster_centers_)\n"
   ]
  },
  {
   "cell_type": "code",
   "execution_count": null,
   "id": "0eab66ce-a529-45d5-adf4-97c6d407325c",
   "metadata": {},
   "outputs": [],
   "source": []
  }
 ],
 "metadata": {
  "kernelspec": {
   "display_name": "Python 3 (ipykernel)",
   "language": "python",
   "name": "python3"
  },
  "language_info": {
   "codemirror_mode": {
    "name": "ipython",
    "version": 3
   },
   "file_extension": ".py",
   "mimetype": "text/x-python",
   "name": "python",
   "nbconvert_exporter": "python",
   "pygments_lexer": "ipython3",
   "version": "3.13.0"
  }
 },
 "nbformat": 4,
 "nbformat_minor": 5
}
