{
 "cells": [
  {
   "cell_type": "code",
   "execution_count": 2,
   "id": "567c7987-76e9-4eb3-a70b-88a037a5bba1",
   "metadata": {},
   "outputs": [
    {
     "name": "stdout",
     "output_type": "stream",
     "text": [
      "Original DataFrame:\n",
      "   Student  Math  Science  English\n",
      "0   Albert  85.0     90.0      NaN\n",
      "1    Bobby   NaN     87.0     75.0\n",
      "2  Charlie  78.0      NaN     83.0\n",
      "3    David  92.0     88.0     89.0\n",
      "\n",
      "DataFrame after Forward Fill:\n",
      "   Student  Math  Science  English\n",
      "0   Albert  85.0     90.0      NaN\n",
      "1    Bobby  85.0     87.0     75.0\n",
      "2  Charlie  78.0     87.0     83.0\n",
      "3    David  92.0     88.0     89.0\n"
     ]
    },
    {
     "name": "stderr",
     "output_type": "stream",
     "text": [
      "C:\\Users\\AA\\AppData\\Local\\Temp\\ipykernel_7556\\918911213.py:15: FutureWarning: DataFrame.fillna with 'method' is deprecated and will raise in a future version. Use obj.ffill() or obj.bfill() instead.\n",
      "  df_filled = df.fillna(method='ffill')\n"
     ]
    }
   ],
   "source": [
    "import pandas as pd\n",
    "\n",
    "# Sample data\n",
    "data = {\n",
    "    'Student': ['Albert', 'Bobby', 'Charlie', 'David'],\n",
    "    'Math': [85, None, 78, 92],\n",
    "    'Science': [90, 87, None, 88],\n",
    "    'English': [None, 75, 83, 89]\n",
    "}\n",
    "\n",
    "# Create a DataFrame\n",
    "df = pd.DataFrame(data)\n",
    "\n",
    "# Forward fill missing values\n",
    "df_filled = df.fillna(method='ffill')\n",
    "\n",
    "print(\"Original DataFrame:\")\n",
    "print(df)\n",
    "print(\"\\nDataFrame after Forward Fill:\")\n",
    "print(df_filled)\n"
   ]
  },
  {
   "cell_type": "code",
   "execution_count": null,
   "id": "05cc416d-8157-439e-8647-a81cd01e2ce1",
   "metadata": {},
   "outputs": [],
   "source": []
  }
 ],
 "metadata": {
  "kernelspec": {
   "display_name": "Python 3 (ipykernel)",
   "language": "python",
   "name": "python3"
  },
  "language_info": {
   "codemirror_mode": {
    "name": "ipython",
    "version": 3
   },
   "file_extension": ".py",
   "mimetype": "text/x-python",
   "name": "python",
   "nbconvert_exporter": "python",
   "pygments_lexer": "ipython3",
   "version": "3.12.7"
  }
 },
 "nbformat": 4,
 "nbformat_minor": 5
}
