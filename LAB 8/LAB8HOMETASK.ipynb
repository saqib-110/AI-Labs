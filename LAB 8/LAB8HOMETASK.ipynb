{
 "cells": [
  {
   "cell_type": "code",
   "execution_count": 3,
   "id": "82fadbbd-1325-46a9-a296-49bcbee9c121",
   "metadata": {},
   "outputs": [
    {
     "name": "stdout",
     "output_type": "stream",
     "text": [
      "Computing the cosine similarity matrix...\n",
      "Done computing similarity matrix.\n",
      "Top 5 book recommendations for user Eva:\n",
      "Book: 0, Predicted Rating: 4.17\n",
      "Book: 1, Predicted Rating: 3.83\n"
     ]
    }
   ],
   "source": [
    "import pandas as pd\n",
    "from surprise import Dataset, Reader\n",
    "from surprise import KNNWithMeans\n",
    "\n",
    "# 1. Define the dataset (as provided)\n",
    "ratings_dict = { \n",
    "    \"book\": [\"Book A\", \"Book B\", \"Book A\", \"Book C\", \"Book B\", \"Book C\", \"Book A\", \"Book B\", \"Book C\"], \n",
    "    \"user\": ['Alice', 'Alice', 'Bob', 'Bob', 'Charlie', 'Charlie', 'David', 'David', 'Eva'], \n",
    "    \"rating\": [4.5, 5, 3.5, 4, 2.5, 3, 4.5, 4, 3.5]\n",
    "}\n",
    "\n",
    "df = pd.DataFrame(ratings_dict)\n",
    "\n",
    "# 2. Define the reader and load the dataset using Surprise\n",
    "reader = Reader(rating_scale=(1, 5)) \n",
    "data = Dataset.load_from_df(df[[\"user\", \"book\", \"rating\"]], reader)\n",
    "\n",
    "# 3. Setup item-based collaborative filtering using KNN\n",
    "sim_options = {     \n",
    "    \"name\": \"cosine\",         # Cosine similarity\n",
    "    \"user_based\": False,      # Item-based filtering\n",
    "} \n",
    "algo = KNNWithMeans(sim_options=sim_options)\n",
    "\n",
    "# 4. Build the training set and train the model\n",
    "trainingSet = data.build_full_trainset()\n",
    "algo.fit(trainingSet)\n",
    "\n",
    "# 5. Predict ratings for items that the user hasn't rated yet\n",
    "def recommend_books(user_name, num_recommendations=5):\n",
    "    # Map user names to internal user IDs\n",
    "    user_inner_id = trainingSet.to_inner_uid(user_name)\n",
    "    \n",
    "    # Get the list of books the user has rated\n",
    "    rated_books = [item for (item, _) in trainingSet.ur[user_inner_id]]\n",
    "    \n",
    "    # Generate predictions for all books the user has not rated\n",
    "    predictions = []\n",
    "    for book in trainingSet.all_items():\n",
    "        if book not in rated_books:\n",
    "            prediction = algo.predict(user_name, trainingSet.to_raw_iid(book))\n",
    "            predictions.append((book, prediction.est))\n",
    "    \n",
    "    # Sort predictions by estimated rating in descending order\n",
    "    recommendations = sorted(predictions, key=lambda x: x[1], reverse=True)\n",
    "    \n",
    "    # Return the top N recommendations\n",
    "    return recommendations[:num_recommendations]\n",
    "\n",
    "# 6. Recommend books for user 'Eva' (or any other user)\n",
    "user_name = 'Eva'\n",
    "recommendations = recommend_books(user_name, 5)\n",
    "\n",
    "# 7. Display the top 5 recommendations\n",
    "print(f\"Top 5 book recommendations for user {user_name}:\")\n",
    "for book, rating in recommendations:\n",
    "    print(f\"Book: {book}, Predicted Rating: {rating:.2f}\")\n"
   ]
  },
  {
   "cell_type": "code",
   "execution_count": null,
   "id": "574103b8-5f5b-4e45-aff9-997df55fcdcf",
   "metadata": {},
   "outputs": [],
   "source": []
  }
 ],
 "metadata": {
  "kernelspec": {
   "display_name": "Python 3 (ipykernel)",
   "language": "python",
   "name": "python3"
  },
  "language_info": {
   "codemirror_mode": {
    "name": "ipython",
    "version": 3
   },
   "file_extension": ".py",
   "mimetype": "text/x-python",
   "name": "python",
   "nbconvert_exporter": "python",
   "pygments_lexer": "ipython3",
   "version": "3.11.7"
  }
 },
 "nbformat": 4,
 "nbformat_minor": 5
}
