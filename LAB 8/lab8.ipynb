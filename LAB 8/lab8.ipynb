{
 "cells": [
  {
   "cell_type": "code",
   "execution_count": 11,
   "id": "82fadbbd-1325-46a9-a296-49bcbee9c121",
   "metadata": {},
   "outputs": [
    {
     "name": "stdout",
     "output_type": "stream",
     "text": [
      "Computing the cosine similarity matrix...\n",
      "Done computing similarity matrix.\n",
      "Top 5 movie recommendations for user E:\n",
      "Movie ID: 1, Predicted Rating: 4.15\n"
     ]
    }
   ],
   "source": [
    "import pandas as pd\n",
    "from surprise import Dataset, Reader\n",
    "from surprise import KNNWithMeans\n",
    "\n",
    "# 1. Define the dataset (as provided)\n",
    "ratings_dict = { \n",
    "    \"item\": [1, 2, 1, 2, 1, 2, 1, 2, 1], \n",
    "    \"user\": ['A', 'A', 'B', 'B', 'C', 'C', 'D', 'D', 'E'], \n",
    "    \"rating\": [1, 2, 2, 4, 2.5, 4, 4.5, 5, 3]\n",
    "} \n",
    "df = pd.DataFrame(ratings_dict)\n",
    "\n",
    "# 2. Define the reader and load the dataset using Surprise\n",
    "reader = Reader(rating_scale=(1, 5)) \n",
    "data = Dataset.load_from_df(df[[\"user\", \"item\", \"rating\"]], reader)\n",
    "\n",
    "# 3. Setup item-based collaborative filtering using KNN\n",
    "sim_options = {     \n",
    "    \"name\": \"cosine\",         # Cosine similarity\n",
    "    \"user_based\": False,      # Item-based filtering\n",
    "} \n",
    "algo = KNNWithMeans(sim_options=sim_options)\n",
    "\n",
    "# 4. Build the training set and train the model\n",
    "trainingSet = data.build_full_trainset()\n",
    "algo.fit(trainingSet)\n",
    "\n",
    "# 5. Predict ratings for items that the user hasn't rated yet\n",
    "def recommend_movies(user_id, num_recommendations=5):\n",
    "    # Get the list of items (movies) the user has not rated\n",
    "    rated_items = [item for (item, _) in trainingSet.ur[trainingSet.to_inner_uid(user_id)]]\n",
    "    \n",
    "    # Generate predictions for all items the user has not rated\n",
    "    predictions = []\n",
    "    for item in trainingSet.all_items():\n",
    "        if item not in rated_items:\n",
    "            prediction = algo.predict(user_id, trainingSet.to_raw_iid(item))\n",
    "            predictions.append((item, prediction.est))\n",
    "    \n",
    "    # Sort predictions by estimated rating in descending order\n",
    "    recommendations = sorted(predictions, key=lambda x: x[1], reverse=True)\n",
    "    \n",
    "    # Return the top N recommendations\n",
    "    return recommendations[:num_recommendations]\n",
    "\n",
    "# 6. Recommend movies for user 'E' (or any other user)\n",
    "user_id = 'E'\n",
    "recommendations = recommend_movies(user_id, 5)\n",
    "\n",
    "# 7. Display the top 5 recommendations\n",
    "print(f\"Top 5 movie recommendations for user {user_id}:\")\n",
    "for item, rating in recommendations:\n",
    "    print(f\"Movie ID: {item}, Predicted Rating: {rating:.2f}\")\n"
   ]
  },
  {
   "cell_type": "code",
   "execution_count": null,
   "id": "574103b8-5f5b-4e45-aff9-997df55fcdcf",
   "metadata": {},
   "outputs": [],
   "source": []
  }
 ],
 "metadata": {
  "kernelspec": {
   "display_name": "Python 3 (ipykernel)",
   "language": "python",
   "name": "python3"
  },
  "language_info": {
   "codemirror_mode": {
    "name": "ipython",
    "version": 3
   },
   "file_extension": ".py",
   "mimetype": "text/x-python",
   "name": "python",
   "nbconvert_exporter": "python",
   "pygments_lexer": "ipython3",
   "version": "3.11.7"
  }
 },
 "nbformat": 4,
 "nbformat_minor": 5
}
