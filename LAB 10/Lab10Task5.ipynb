{
 "cells": [
  {
   "cell_type": "code",
   "execution_count": 1,
   "id": "89beb4f8-1a93-494e-aa84-28d1419472a6",
   "metadata": {},
   "outputs": [
    {
     "name": "stdout",
     "output_type": "stream",
     "text": [
      "Items in LIFO order:\n",
      "Third\n",
      "Second\n",
      "First\n"
     ]
    }
   ],
   "source": [
    "import queue\n",
    "\n",
    "lifo_queue = queue.LifoQueue()\n",
    "\n",
    "lifo_queue.put('First')\n",
    "lifo_queue.put('Second')\n",
    "lifo_queue.put('Third')\n",
    "\n",
    "print(\"Items in LIFO order:\")\n",
    "while not lifo_queue.empty():\n",
    "    item = lifo_queue.get()\n",
    "    print(item)\n"
   ]
  },
  {
   "cell_type": "code",
   "execution_count": null,
   "id": "5e692ebe-7ccf-4e81-9181-a5b05e0d83ff",
   "metadata": {},
   "outputs": [],
   "source": []
  }
 ],
 "metadata": {
  "kernelspec": {
   "display_name": "Python 3 (ipykernel)",
   "language": "python",
   "name": "python3"
  },
  "language_info": {
   "codemirror_mode": {
    "name": "ipython",
    "version": 3
   },
   "file_extension": ".py",
   "mimetype": "text/x-python",
   "name": "python",
   "nbconvert_exporter": "python",
   "pygments_lexer": "ipython3",
   "version": "3.11.7"
  }
 },
 "nbformat": 4,
 "nbformat_minor": 5
}
