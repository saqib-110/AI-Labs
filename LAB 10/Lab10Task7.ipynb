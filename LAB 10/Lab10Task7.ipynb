{
 "cells": [
  {
   "cell_type": "code",
   "execution_count": 2,
   "id": "75c524ae-0430-45ab-a5f2-1e2cffa1f3be",
   "metadata": {},
   "outputs": [
    {
     "name": "stdout",
     "output_type": "stream",
     "text": [
      "A connected to: ['B', 'C']\n",
      "B connected to: ['A', 'D']\n",
      "C connected to: ['A', 'E']\n",
      "D connected to: ['B', 'E']\n",
      "E connected to: ['C', 'D']\n"
     ]
    }
   ],
   "source": [
    "class Vertex:\n",
    "    def __init__(self, key):\n",
    "        self.key = key\n",
    "        self.neighbors = {}  # Dictionary to store neighbors and weights (if needed)\n",
    "\n",
    "    def add_neighbor(self, neighbor, weight=0):\n",
    "        self.neighbors[neighbor] = weight\n",
    "\n",
    "    def get_neighbors(self):\n",
    "        return self.neighbors.keys()\n",
    "\n",
    "    def __str__(self):\n",
    "        return f\"{self.key} connected to: {list(self.neighbors.keys())}\"\n",
    "\n",
    "\n",
    "class Graph:\n",
    "    def __init__(self):\n",
    "        self.vertices = {}  # Dictionary to store vertex objects\n",
    "\n",
    "    def add_vertex(self, key):\n",
    "        if key not in self.vertices:\n",
    "            self.vertices[key] = Vertex(key)\n",
    "\n",
    "    def add_vertices(self, keys):\n",
    "        for key in keys:\n",
    "            self.add_vertex(key)\n",
    "\n",
    "    def add_edge(self, from_vertex, to_vertex, weight=0):\n",
    "        if from_vertex not in self.vertices:\n",
    "            self.add_vertex(from_vertex)\n",
    "        if to_vertex not in self.vertices:\n",
    "            self.add_vertex(to_vertex)\n",
    "\n",
    "        # Add the edge in both directions for an undirected graph\n",
    "        self.vertices[from_vertex].add_neighbor(to_vertex, weight)\n",
    "        self.vertices[to_vertex].add_neighbor(from_vertex, weight)\n",
    "\n",
    "    def get_vertex(self, key):\n",
    "        return self.vertices.get(key)\n",
    "\n",
    "    def display(self):\n",
    "        for key in self.vertices:\n",
    "            print(self.vertices[key])\n",
    "\n",
    "\n",
    "# Example Usage\n",
    "graph = Graph()\n",
    "graph.add_vertices(['A', 'B', 'C', 'D', 'E'])\n",
    "graph.add_edge('A', 'B', 1)\n",
    "graph.add_edge('A', 'C', 2)\n",
    "graph.add_edge('B', 'D', 4)\n",
    "graph.add_edge('C', 'E', 3)\n",
    "graph.add_edge('D', 'E', 5)\n",
    "\n",
    "# Display the graph\n",
    "graph.display()\n"
   ]
  },
  {
   "cell_type": "code",
   "execution_count": null,
   "id": "9d413671-25b7-4455-8e3d-1479a4a80b41",
   "metadata": {},
   "outputs": [],
   "source": []
  }
 ],
 "metadata": {
  "kernelspec": {
   "display_name": "Python 3 (ipykernel)",
   "language": "python",
   "name": "python3"
  },
  "language_info": {
   "codemirror_mode": {
    "name": "ipython",
    "version": 3
   },
   "file_extension": ".py",
   "mimetype": "text/x-python",
   "name": "python",
   "nbconvert_exporter": "python",
   "pygments_lexer": "ipython3",
   "version": "3.11.7"
  }
 },
 "nbformat": 4,
 "nbformat_minor": 5
}
