{
 "cells": [
  {
   "cell_type": "code",
   "execution_count": 1,
   "id": "5e692ebe-7ccf-4e81-9181-a5b05e0d83ff",
   "metadata": {},
   "outputs": [
    {
     "name": "stdout",
     "output_type": "stream",
     "text": [
      "[4]\n",
      "[8, 4]\n",
      "[8, 4, 1]\n",
      "[8, 7, 1, 4]\n",
      "[8, 7, 1, 4, 3]\n"
     ]
    }
   ],
   "source": [
    "import heapq\n",
    "\n",
    "def insert_max_priority_queue(arr):\n",
    "    max_heap = []  \n",
    "\n",
    "    for num in arr:\n",
    "        heapq.heappush(max_heap, -num)\n",
    "\n",
    "        print([-x for x in max_heap]) \n",
    "\n",
    "arr = [4, 8, 1, 7, 3]\n",
    "insert_max_priority_queue(arr)\n"
   ]
  },
  {
   "cell_type": "code",
   "execution_count": null,
   "id": "e3f10ab5-ef3b-4129-9327-67b0bde659f8",
   "metadata": {},
   "outputs": [],
   "source": []
  }
 ],
 "metadata": {
  "kernelspec": {
   "display_name": "Python 3 (ipykernel)",
   "language": "python",
   "name": "python3"
  },
  "language_info": {
   "codemirror_mode": {
    "name": "ipython",
    "version": 3
   },
   "file_extension": ".py",
   "mimetype": "text/x-python",
   "name": "python",
   "nbconvert_exporter": "python",
   "pygments_lexer": "ipython3",
   "version": "3.11.7"
  }
 },
 "nbformat": 4,
 "nbformat_minor": 5
}
