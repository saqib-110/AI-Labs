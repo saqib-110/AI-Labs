{
 "cells": [
  {
   "cell_type": "code",
   "execution_count": 2,
   "id": "2eb98817-10d4-429c-bc02-b801428fe014",
   "metadata": {},
   "outputs": [
    {
     "name": "stdout",
     "output_type": "stream",
     "text": [
      "Total number of employees: 3\n",
      "Employee Name: Alice, Salary: 50000\n",
      "Employee Name: Bob, Salary: 60000\n",
      "Employee Name: Charlie, Salary: 55000\n"
     ]
    }
   ],
   "source": [
    "class Employee:\n",
    "    employee_count = 0\n",
    "\n",
    "    def __init__(self, empName, salary):\n",
    "        self.empName = empName\n",
    "        self.salary = salary\n",
    "        Employee.employee_count += 1\n",
    "\n",
    "    @classmethod\n",
    "    def displayCount(cls):\n",
    "        print(f\"Total number of employees: {cls.employee_count}\")\n",
    "\n",
    "    def displayEmployee(self):\n",
    "        print(f\"Employee Name: {self.empName}, Salary: {self.salary}\")\n",
    "\n",
    "\n",
    "employee1 = Employee(\"Alice\", 50000)\n",
    "employee2 = Employee(\"Bob\", 60000)\n",
    "employee3 = Employee(\"Charlie\", 55000)\n",
    "\n",
    "Employee.displayCount()\n",
    "\n",
    "employee1.displayEmployee()\n",
    "employee2.displayEmployee()\n",
    "employee3.displayEmployee()\n"
   ]
  },
  {
   "cell_type": "code",
   "execution_count": null,
   "id": "89beb4f8-1a93-494e-aa84-28d1419472a6",
   "metadata": {},
   "outputs": [],
   "source": []
  }
 ],
 "metadata": {
  "kernelspec": {
   "display_name": "Python 3 (ipykernel)",
   "language": "python",
   "name": "python3"
  },
  "language_info": {
   "codemirror_mode": {
    "name": "ipython",
    "version": 3
   },
   "file_extension": ".py",
   "mimetype": "text/x-python",
   "name": "python",
   "nbconvert_exporter": "python",
   "pygments_lexer": "ipython3",
   "version": "3.11.7"
  }
 },
 "nbformat": 4,
 "nbformat_minor": 5
}
