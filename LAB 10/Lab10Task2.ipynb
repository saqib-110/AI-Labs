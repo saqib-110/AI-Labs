{
 "cells": [
  {
   "cell_type": "code",
   "execution_count": 1,
   "id": "650459ac-90c7-4746-8e23-17de8e655321",
   "metadata": {},
   "outputs": [
    {
     "name": "stdout",
     "output_type": "stream",
     "text": [
      "Dear Albert Einstein,\n",
      "I would be honored to invite you to dinner!\n",
      "Looking forward to your company.\n",
      "\n",
      "Dear Mahatma Gandhi,\n",
      "I would be honored to invite you to dinner!\n",
      "Looking forward to your company.\n",
      "\n",
      "Dear Ada Lovelace,\n",
      "I would be honored to invite you to dinner!\n",
      "Looking forward to your company.\n",
      "\n"
     ]
    }
   ],
   "source": [
    "Guests_LIST = [\"Albert Einstein\", \"Mahatma Gandhi\", \"Ada Lovelace\"]\n",
    "\n",
    "for guest in Guests_LIST :\n",
    "    print(f\"Dear {guest},\\nI would be honored to invite you to dinner!\\nLooking forward to your company.\\n\")\n"
   ]
  },
  {
   "cell_type": "code",
   "execution_count": null,
   "id": "b12fdc1e-9085-456d-bc00-5fe9bfea746e",
   "metadata": {},
   "outputs": [],
   "source": []
  }
 ],
 "metadata": {
  "kernelspec": {
   "display_name": "Python 3 (ipykernel)",
   "language": "python",
   "name": "python3"
  },
  "language_info": {
   "codemirror_mode": {
    "name": "ipython",
    "version": 3
   },
   "file_extension": ".py",
   "mimetype": "text/x-python",
   "name": "python",
   "nbconvert_exporter": "python",
   "pygments_lexer": "ipython3",
   "version": "3.11.7"
  }
 },
 "nbformat": 4,
 "nbformat_minor": 5
}
