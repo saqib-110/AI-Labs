{
 "cells": [
  {
   "cell_type": "code",
   "execution_count": 1,
   "id": "a12a816a-d289-40b3-b294-98d30e80b97f",
   "metadata": {},
   "outputs": [
    {
     "name": "stdout",
     "output_type": "stream",
     "text": [
      "Updated Invitation Messages:\n",
      "Dear Albert Einstein,\n",
      "I would be honored to invite you to dinner!\n",
      "Looking forward to your company.\n",
      "\n",
      "Dear Mahatma Gandhi,\n",
      "I would be honored to invite you to dinner!\n",
      "Looking forward to your company.\n",
      "\n",
      "Dear Nikola Tesla,\n",
      "I would be honored to invite you to dinner!\n",
      "Looking forward to your company.\n",
      "\n"
     ]
    }
   ],
   "source": [
    "dinner_guests = [\"Albert Einstein\", \"Mahatma Gandhi\", \"Ada Lovelace\"]\n",
    "\n",
    "dinner_guests[2] = \"Nikola Tesla\"  \n",
    "\n",
    "print(\"Updated Invitation Messages:\")\n",
    "for guest in dinner_guests:\n",
    "    print(f\"Dear {guest},\\nI would be honored to invite you to dinner!\\nLooking forward to your company.\\n\")\n"
   ]
  },
  {
   "cell_type": "code",
   "execution_count": null,
   "id": "2eb98817-10d4-429c-bc02-b801428fe014",
   "metadata": {},
   "outputs": [],
   "source": []
  }
 ],
 "metadata": {
  "kernelspec": {
   "display_name": "Python 3 (ipykernel)",
   "language": "python",
   "name": "python3"
  },
  "language_info": {
   "codemirror_mode": {
    "name": "ipython",
    "version": 3
   },
   "file_extension": ".py",
   "mimetype": "text/x-python",
   "name": "python",
   "nbconvert_exporter": "python",
   "pygments_lexer": "ipython3",
   "version": "3.11.7"
  }
 },
 "nbformat": 4,
 "nbformat_minor": 5
}
